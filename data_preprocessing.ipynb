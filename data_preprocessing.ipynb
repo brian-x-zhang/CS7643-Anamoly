{
 "cells": [
  {
   "cell_type": "code",
   "execution_count": 1,
   "id": "c4edf8cb-c24c-40d1-9415-e4e84c8b66bf",
   "metadata": {
    "scrolled": true
   },
   "outputs": [],
   "source": [
    "# !tar -xvf Yahoo_S5_dataset.tgz"
   ]
  },
  {
   "cell_type": "code",
   "execution_count": 2,
   "id": "2901c5e6-a20b-4e60-b519-86626f9be7eb",
   "metadata": {},
   "outputs": [],
   "source": [
    "from scipy.signal import savgol_filter\n",
    "\n",
    "def remove_noise(x, window_length = 5, polyorder=2):\n",
    "    '''\n",
    "    Use sklearns savgol_filter menthod: https://docs.scipy.org/doc/scipy/reference/generated/scipy.signal.savgol_filter.html\n",
    "    x: input sequence for noise reduction\n",
    "    window_length: The length of the filter window (i.e., the number of coefficients)\n",
    "    polyorder: The order of the polynomial used to fit the samples\n",
    "\n",
    "    returns noise reduced sequence\n",
    "    '''\n",
    "    return savgol_filter(x, window_length=window_length, polyorder=polyorder)\n",
    "\n",
    "def normalize(series):\n",
    "    '''\n",
    "    Performs 0-1 normalization on the input series\n",
    "    series: The input pandas series to normalize\n",
    "\n",
    "    returns normalized series\n",
    "    '''\n",
    "    mean = series.mean()\n",
    "    std = series.std()\n",
    "    return (series - mean) / std\n",
    "\n",
    "def normal_check(series):\n",
    "    '''\n",
    "    Quick check to see if a series follows 0-1 normal distribution using mean and std\n",
    "    series: The input pandas series to normalize\n",
    "\n",
    "    return: Boolean value for check satisfied or not\n",
    "    '''\n",
    "\n",
    "    if ((series.mean() - 0) > 1e-6) or \\\n",
    "        ((series.mean() - 0) < -1e-6)  or \\\n",
    "        ((series.std() - 1) > 1e-6) or \\\n",
    "        ((series.std() - 1) < -1e-6):\n",
    "        return False\n",
    "    return True"
   ]
  },
  {
   "cell_type": "code",
   "execution_count": 3,
   "id": "47716255-4d39-4d22-8bdf-3403044a8ad6",
   "metadata": {
    "scrolled": true
   },
   "outputs": [
    {
     "name": "stdout",
     "output_type": "stream",
     "text": [
      "Extracted 67 file names from folder A1Benchmark\n",
      "Extracted 100 file names from folder A2Benchmark\n",
      "Extracted 100 file names from folder A3Benchmark\n",
      "Extracted 100 file names from folder A4Benchmark\n"
     ]
    }
   ],
   "source": [
    "import os\n",
    "import glob \n",
    "\n",
    "import pandas as pd\n",
    "\n",
    "in_data_root = 'ydata-labeled-time-series-anomalies-v1_0'\n",
    "out_data_root = 'preprocessed_ydata-labeled-time-series-anomalies-v1_0'\n",
    "folder_list = ['A1Benchmark', 'A2Benchmark', 'A3Benchmark', 'A4Benchmark']\n",
    "\n",
    "for folder in folder_list:\n",
    "    files = glob.glob(os.path.join(in_data_root, folder) + r\"/*.csv\")\n",
    "    \n",
    "    timestamp_col = 'timestamp'\n",
    "    if folder in ['A3Benchmark', 'A4Benchmark']:\n",
    "        files = [file for file in files if '_all' not in file]\n",
    "        timestamp_col = 'timestamps'\n",
    "            \n",
    "    print(f'Extracted {len(files)} file names from folder {folder}')\n",
    "    \n",
    "    for file in files:\n",
    "        df = pd.read_csv(file)\n",
    "        df = df.sort_values(timestamp_col)\n",
    "        df = df.reset_index(drop=True)\n",
    "        df['value_processed'] = remove_noise(df['value'])\n",
    "        df['value_processed'] = normalize(df['value_processed'])\n",
    "        if not normal_check(df['value_processed']):\n",
    "            print(f'Preprocessing incorrect for file {file} in folder {folder}')\n",
    "\n",
    "        out_dir = os.path.join(out_data_root, folder)\n",
    "        if not os.path.exists(out_dir):\n",
    "            os.mkdir(out_dir)\n",
    "        file_name = file.split(\"/\")[-1].split(\"\\\\\")[-1]\n",
    "        out_file_path = os.path.join(out_dir, file_name)\n",
    "        df.to_csv(out_file_path, index=False)"
   ]
  },
  {
   "cell_type": "code",
   "execution_count": 4,
   "id": "df568803-32d0-4c2e-9c27-a8eda6642e84",
   "metadata": {
    "collapsed": true,
    "jupyter": {
     "outputs_hidden": true
    }
   },
   "outputs": [],
   "source": [
    "# !tar -zvcf Preprocessed_Yahoo_S5_dataset.gz preprocessed_ydata-labeled-time-series-anomalies-v1_0"
   ]
  },
  {
   "cell_type": "code",
   "execution_count": null,
   "id": "9b17e107-b89b-44af-8c99-5f4c62d1ed22",
   "metadata": {},
   "outputs": [],
   "source": []
  }
 ],
 "metadata": {
  "kernelspec": {
   "display_name": "Python 3 (ipykernel)",
   "language": "python",
   "name": "python3"
  },
  "language_info": {
   "codemirror_mode": {
    "name": "ipython",
    "version": 3
   },
   "file_extension": ".py",
   "mimetype": "text/x-python",
   "name": "python",
   "nbconvert_exporter": "python",
   "pygments_lexer": "ipython3",
   "version": "3.9.7"
  }
 },
 "nbformat": 4,
 "nbformat_minor": 5
}
